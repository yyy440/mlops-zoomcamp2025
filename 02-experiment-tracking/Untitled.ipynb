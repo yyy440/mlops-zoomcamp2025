{
 "cells": [
  {
   "cell_type": "code",
   "execution_count": null,
   "id": "2d6b1b32-d87c-4ce7-a8f3-30f27c025d93",
   "metadata": {},
   "outputs": [],
   "source": []
  }
 ],
 "metadata": {
  "kernelspec": {
   "display_name": "",
   "name": ""
  },
  "language_info": {
   "name": ""
  }
 },
 "nbformat": 4,
 "nbformat_minor": 5
}
