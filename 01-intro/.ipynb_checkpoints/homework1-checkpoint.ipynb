{
 "cells": [
  {
   "cell_type": "code",
   "execution_count": 1,
   "id": "8f7f7755-23dd-4234-8d5f-77df0fe0328e",
   "metadata": {},
   "outputs": [],
   "source": [
    "import pandas as pd\n",
    "import numpy as np\n",
    "import gc"
   ]
  },
  {
   "cell_type": "code",
   "execution_count": 2,
   "id": "831714fa-adb2-44c5-a23a-ac49ad1f8510",
   "metadata": {},
   "outputs": [],
   "source": [
    "jan2023_df = pd.read_parquet('https://d37ci6vzurychx.cloudfront.net/trip-data/yellow_tripdata_2023-01.parquet')"
   ]
  },
  {
   "cell_type": "code",
   "execution_count": 3,
   "id": "35aaa583-8498-485f-bd32-aa53f80a00b1",
   "metadata": {},
   "outputs": [
    {
     "data": {
      "text/html": [
       "<div>\n",
       "<style scoped>\n",
       "    .dataframe tbody tr th:only-of-type {\n",
       "        vertical-align: middle;\n",
       "    }\n",
       "\n",
       "    .dataframe tbody tr th {\n",
       "        vertical-align: top;\n",
       "    }\n",
       "\n",
       "    .dataframe thead th {\n",
       "        text-align: right;\n",
       "    }\n",
       "</style>\n",
       "<table border=\"1\" class=\"dataframe\">\n",
       "  <thead>\n",
       "    <tr style=\"text-align: right;\">\n",
       "      <th></th>\n",
       "      <th>VendorID</th>\n",
       "      <th>tpep_pickup_datetime</th>\n",
       "      <th>tpep_dropoff_datetime</th>\n",
       "      <th>passenger_count</th>\n",
       "      <th>trip_distance</th>\n",
       "      <th>RatecodeID</th>\n",
       "      <th>store_and_fwd_flag</th>\n",
       "      <th>PULocationID</th>\n",
       "      <th>DOLocationID</th>\n",
       "      <th>payment_type</th>\n",
       "      <th>fare_amount</th>\n",
       "      <th>extra</th>\n",
       "      <th>mta_tax</th>\n",
       "      <th>tip_amount</th>\n",
       "      <th>tolls_amount</th>\n",
       "      <th>improvement_surcharge</th>\n",
       "      <th>total_amount</th>\n",
       "      <th>congestion_surcharge</th>\n",
       "      <th>airport_fee</th>\n",
       "    </tr>\n",
       "  </thead>\n",
       "  <tbody>\n",
       "    <tr>\n",
       "      <th>0</th>\n",
       "      <td>2</td>\n",
       "      <td>2023-01-01 00:32:10</td>\n",
       "      <td>2023-01-01 00:40:36</td>\n",
       "      <td>1.0</td>\n",
       "      <td>0.97</td>\n",
       "      <td>1.0</td>\n",
       "      <td>N</td>\n",
       "      <td>161</td>\n",
       "      <td>141</td>\n",
       "      <td>2</td>\n",
       "      <td>9.3</td>\n",
       "      <td>1.00</td>\n",
       "      <td>0.5</td>\n",
       "      <td>0.00</td>\n",
       "      <td>0.0</td>\n",
       "      <td>1.0</td>\n",
       "      <td>14.30</td>\n",
       "      <td>2.5</td>\n",
       "      <td>0.00</td>\n",
       "    </tr>\n",
       "    <tr>\n",
       "      <th>1</th>\n",
       "      <td>2</td>\n",
       "      <td>2023-01-01 00:55:08</td>\n",
       "      <td>2023-01-01 01:01:27</td>\n",
       "      <td>1.0</td>\n",
       "      <td>1.10</td>\n",
       "      <td>1.0</td>\n",
       "      <td>N</td>\n",
       "      <td>43</td>\n",
       "      <td>237</td>\n",
       "      <td>1</td>\n",
       "      <td>7.9</td>\n",
       "      <td>1.00</td>\n",
       "      <td>0.5</td>\n",
       "      <td>4.00</td>\n",
       "      <td>0.0</td>\n",
       "      <td>1.0</td>\n",
       "      <td>16.90</td>\n",
       "      <td>2.5</td>\n",
       "      <td>0.00</td>\n",
       "    </tr>\n",
       "    <tr>\n",
       "      <th>2</th>\n",
       "      <td>2</td>\n",
       "      <td>2023-01-01 00:25:04</td>\n",
       "      <td>2023-01-01 00:37:49</td>\n",
       "      <td>1.0</td>\n",
       "      <td>2.51</td>\n",
       "      <td>1.0</td>\n",
       "      <td>N</td>\n",
       "      <td>48</td>\n",
       "      <td>238</td>\n",
       "      <td>1</td>\n",
       "      <td>14.9</td>\n",
       "      <td>1.00</td>\n",
       "      <td>0.5</td>\n",
       "      <td>15.00</td>\n",
       "      <td>0.0</td>\n",
       "      <td>1.0</td>\n",
       "      <td>34.90</td>\n",
       "      <td>2.5</td>\n",
       "      <td>0.00</td>\n",
       "    </tr>\n",
       "    <tr>\n",
       "      <th>3</th>\n",
       "      <td>1</td>\n",
       "      <td>2023-01-01 00:03:48</td>\n",
       "      <td>2023-01-01 00:13:25</td>\n",
       "      <td>0.0</td>\n",
       "      <td>1.90</td>\n",
       "      <td>1.0</td>\n",
       "      <td>N</td>\n",
       "      <td>138</td>\n",
       "      <td>7</td>\n",
       "      <td>1</td>\n",
       "      <td>12.1</td>\n",
       "      <td>7.25</td>\n",
       "      <td>0.5</td>\n",
       "      <td>0.00</td>\n",
       "      <td>0.0</td>\n",
       "      <td>1.0</td>\n",
       "      <td>20.85</td>\n",
       "      <td>0.0</td>\n",
       "      <td>1.25</td>\n",
       "    </tr>\n",
       "    <tr>\n",
       "      <th>4</th>\n",
       "      <td>2</td>\n",
       "      <td>2023-01-01 00:10:29</td>\n",
       "      <td>2023-01-01 00:21:19</td>\n",
       "      <td>1.0</td>\n",
       "      <td>1.43</td>\n",
       "      <td>1.0</td>\n",
       "      <td>N</td>\n",
       "      <td>107</td>\n",
       "      <td>79</td>\n",
       "      <td>1</td>\n",
       "      <td>11.4</td>\n",
       "      <td>1.00</td>\n",
       "      <td>0.5</td>\n",
       "      <td>3.28</td>\n",
       "      <td>0.0</td>\n",
       "      <td>1.0</td>\n",
       "      <td>19.68</td>\n",
       "      <td>2.5</td>\n",
       "      <td>0.00</td>\n",
       "    </tr>\n",
       "  </tbody>\n",
       "</table>\n",
       "</div>"
      ],
      "text/plain": [
       "   VendorID tpep_pickup_datetime tpep_dropoff_datetime  passenger_count  \\\n",
       "0         2  2023-01-01 00:32:10   2023-01-01 00:40:36              1.0   \n",
       "1         2  2023-01-01 00:55:08   2023-01-01 01:01:27              1.0   \n",
       "2         2  2023-01-01 00:25:04   2023-01-01 00:37:49              1.0   \n",
       "3         1  2023-01-01 00:03:48   2023-01-01 00:13:25              0.0   \n",
       "4         2  2023-01-01 00:10:29   2023-01-01 00:21:19              1.0   \n",
       "\n",
       "   trip_distance  RatecodeID store_and_fwd_flag  PULocationID  DOLocationID  \\\n",
       "0           0.97         1.0                  N           161           141   \n",
       "1           1.10         1.0                  N            43           237   \n",
       "2           2.51         1.0                  N            48           238   \n",
       "3           1.90         1.0                  N           138             7   \n",
       "4           1.43         1.0                  N           107            79   \n",
       "\n",
       "   payment_type  fare_amount  extra  mta_tax  tip_amount  tolls_amount  \\\n",
       "0             2          9.3   1.00      0.5        0.00           0.0   \n",
       "1             1          7.9   1.00      0.5        4.00           0.0   \n",
       "2             1         14.9   1.00      0.5       15.00           0.0   \n",
       "3             1         12.1   7.25      0.5        0.00           0.0   \n",
       "4             1         11.4   1.00      0.5        3.28           0.0   \n",
       "\n",
       "   improvement_surcharge  total_amount  congestion_surcharge  airport_fee  \n",
       "0                    1.0         14.30                   2.5         0.00  \n",
       "1                    1.0         16.90                   2.5         0.00  \n",
       "2                    1.0         34.90                   2.5         0.00  \n",
       "3                    1.0         20.85                   0.0         1.25  \n",
       "4                    1.0         19.68                   2.5         0.00  "
      ]
     },
     "execution_count": 3,
     "metadata": {},
     "output_type": "execute_result"
    }
   ],
   "source": [
    "jan2023_df.head()"
   ]
  },
  {
   "cell_type": "code",
   "execution_count": 4,
   "id": "b7b81cf5-bc6d-477f-891b-c52176e393f7",
   "metadata": {},
   "outputs": [
    {
     "name": "stdout",
     "output_type": "stream",
     "text": [
      "The number of columns is 19\n"
     ]
    }
   ],
   "source": [
    "print(f'The number of columns is {len(jan2023_df.columns)}')"
   ]
  },
  {
   "cell_type": "code",
   "execution_count": 5,
   "id": "f2900a97-6a28-4561-9a9c-56e0bcff1efa",
   "metadata": {},
   "outputs": [
    {
     "name": "stdout",
     "output_type": "stream",
     "text": [
      "The SD of Duration for Jan 2023 is 42.59435124195458\n"
     ]
    }
   ],
   "source": [
    "jan2023_df['duration'] = (jan2023_df['tpep_dropoff_datetime'] - jan2023_df['tpep_pickup_datetime']).dt.total_seconds()/60\n",
    "\n",
    "print(f'The SD of Duration for Jan 2023 is {jan2023_df['duration'].std()}')"
   ]
  },
  {
   "cell_type": "code",
   "execution_count": 6,
   "id": "b2815c9b-9b04-450d-91ae-6d01bc584f02",
   "metadata": {},
   "outputs": [
    {
     "name": "stdout",
     "output_type": "stream",
     "text": [
      "Percent Remaining = 0.9812202822125979\n"
     ]
    }
   ],
   "source": [
    "n_og_rows = len(jan2023_df)\n",
    "non_outliers = jan2023_df[jan2023_df['duration'].between(1,60)]\n",
    "\n",
    "print(f\"Percent Remaining = {len(non_outliers)/n_og_rows}\")"
   ]
  },
  {
   "cell_type": "markdown",
   "id": "caf8a85e-7394-4143-9a7e-43bf436a9a4d",
   "metadata": {},
   "source": [
    "# Training"
   ]
  },
  {
   "cell_type": "code",
   "execution_count": 7,
   "id": "1a3fd1ff-be97-40df-85f0-ff52819ad259",
   "metadata": {},
   "outputs": [],
   "source": [
    "# cast feature cols to string\n",
    "x_cols = ['PULocationID','DOLocationID']\n",
    "jan2023_df[x_cols] = jan2023_df[x_cols].astype(str)"
   ]
  },
  {
   "cell_type": "code",
   "execution_count": 8,
   "id": "a42c2a9a-986a-4ecb-a176-5e2a2b0b2688",
   "metadata": {},
   "outputs": [],
   "source": [
    "X = jan2023_df[x_cols]\n",
    "y = jan2023_df['duration']\n",
    "assert len(X) == len(y), f'X and y have different number of elements'"
   ]
  },
  {
   "cell_type": "code",
   "execution_count": 9,
   "id": "aa7712c3-4be7-43f3-8946-909273773572",
   "metadata": {},
   "outputs": [
    {
     "data": {
      "text/plain": [
       "17"
      ]
     },
     "execution_count": 9,
     "metadata": {},
     "output_type": "execute_result"
    }
   ],
   "source": [
    "del jan2023_df\n",
    "gc.collect()"
   ]
  },
  {
   "cell_type": "code",
   "execution_count": 10,
   "id": "51fae00a-884f-4a88-892d-d24ccb89226c",
   "metadata": {},
   "outputs": [],
   "source": [
    "# one hot encoding - create dict where keys are location ids and values are indices\n",
    "ohe_pu_dict, ohe_do_dict = {}, {}\n",
    "# not certain that pickup and dropoff have the same amount of locations so have to create dict separately\n",
    "unique_pu_ids = X[x_cols[0]].unique()\n",
    "for i in range(len(unique_pu_ids)):\n",
    "    ohe_pu_dict[unique_pu_ids[i]] = i\n",
    "unique_do_ids = X[x_cols[1]].unique()\n",
    "for i in range(len(unique_do_ids)):\n",
    "    ohe_do_dict[unique_do_ids[i]] = i"
   ]
  },
  {
   "cell_type": "code",
   "execution_count": 11,
   "id": "dd485710-effc-423d-9929-4dacf72cb5fe",
   "metadata": {},
   "outputs": [],
   "source": [
    "n_total_samples = len(X)\n",
    "n_train = int(0.15*n_total_samples)\n",
    "\n",
    "rnd_idx = np.arange(n_total_samples)\n",
    "np.random.shuffle(rnd_idx)\n",
    "rnd_idx = rnd_idx[:n_train]\n",
    "\n",
    "X, y = X.to_numpy()[rnd_idx, :], y.to_numpy()[rnd_idx]"
   ]
  },
  {
   "cell_type": "code",
   "execution_count": 12,
   "id": "74f8acbc-3142-42a8-b354-2700d8bc348d",
   "metadata": {},
   "outputs": [],
   "source": [
    "X_ohe = np.zeros((n_train, len(unique_pu_ids)+len(unique_do_ids)), dtype=np.int8)\n",
    "for i in range(n_train):\n",
    "    pu, do = X[i, :]\n",
    "    puid, doid = ohe_pu_dict[pu], ohe_do_dict[do]\n",
    "    X_ohe[i, [puid, doid]] = 1\n",
    "X_ohe = np.delete(X_ohe, [len(unique_pu_ids), 0], axis=1)"
   ]
  },
  {
   "cell_type": "code",
   "execution_count": 13,
   "id": "1ec69535-218a-490b-8b69-146f9a1b06bd",
   "metadata": {},
   "outputs": [
    {
     "data": {
      "text/plain": [
       "0"
      ]
     },
     "execution_count": 13,
     "metadata": {},
     "output_type": "execute_result"
    }
   ],
   "source": [
    "del X, unique_pu_ids, unique_do_ids\n",
    "gc.collect()"
   ]
  },
  {
   "cell_type": "code",
   "execution_count": 17,
   "id": "26b4c801-b6cd-4fdb-8770-524083119e4e",
   "metadata": {},
   "outputs": [],
   "source": [
    "from sklearn.linear_model import LinearRegression\n",
    "from sklearn.metrics import root_mean_squared_error #true, pred"
   ]
  },
  {
   "cell_type": "code",
   "execution_count": 15,
   "id": "0e99a31c-c945-4608-918d-b61f400e2145",
   "metadata": {},
   "outputs": [],
   "source": [
    "lr_model = LinearRegression().fit(X_ohe, y)"
   ]
  },
  {
   "cell_type": "code",
   "execution_count": 18,
   "id": "266564e3-cb77-4c49-a640-4729c3fb52d0",
   "metadata": {},
   "outputs": [
    {
     "name": "stdout",
     "output_type": "stream",
     "text": [
      "Train rmse is 43.286348814235424\n"
     ]
    }
   ],
   "source": [
    "preds = lr_model.predict(X_ohe)\n",
    "print(f\"Train rmse is {root_mean_squared_error(y, preds)}\")"
   ]
  },
  {
   "cell_type": "code",
   "execution_count": null,
   "id": "bcdbff23-e789-449a-b2b0-e8e4cfe70bab",
   "metadata": {},
   "outputs": [],
   "source": []
  },
  {
   "cell_type": "code",
   "execution_count": null,
   "id": "6d80607d-c00e-4262-b2a3-93562ad765a0",
   "metadata": {},
   "outputs": [],
   "source": []
  }
 ],
 "metadata": {
  "kernelspec": {
   "display_name": "Python 3 (ipykernel)",
   "language": "python",
   "name": "python3"
  },
  "language_info": {
   "codemirror_mode": {
    "name": "ipython",
    "version": 3
   },
   "file_extension": ".py",
   "mimetype": "text/x-python",
   "name": "python",
   "nbconvert_exporter": "python",
   "pygments_lexer": "ipython3",
   "version": "3.12.1"
  }
 },
 "nbformat": 4,
 "nbformat_minor": 5
}
